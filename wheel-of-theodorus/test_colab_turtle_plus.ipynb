{
  "nbformat": 4,
  "nbformat_minor": 0,
  "metadata": {
    "colab": {
      "provenance": [],
      "authorship_tag": "ABX9TyO1lRbixa+CYssQ4RL5KV6L",
      "include_colab_link": true
    },
    "kernelspec": {
      "name": "python3",
      "display_name": "Python 3"
    },
    "language_info": {
      "name": "python"
    }
  },
  "cells": [
    {
      "cell_type": "markdown",
      "metadata": {
        "id": "view-in-github",
        "colab_type": "text"
      },
      "source": [
        "<a href=\"https://colab.research.google.com/github/HSSBoston/python-geometry/blob/main/wheel-of-theodorus/test_colab_turtle_plus.ipynb\" target=\"_parent\"><img src=\"https://colab.research.google.com/assets/colab-badge.svg\" alt=\"Open In Colab\"/></a>"
      ]
    },
    {
      "cell_type": "code",
      "execution_count": 1,
      "metadata": {
        "colab": {
          "base_uri": "https://localhost:8080/"
        },
        "id": "thm_RPrsPj7J",
        "outputId": "ed88dcab-4d17-4e69-9b25-ba892818e8db"
      },
      "outputs": [
        {
          "output_type": "stream",
          "name": "stdout",
          "text": [
            "Looking in indexes: https://pypi.org/simple, https://us-python.pkg.dev/colab-wheels/public/simple/\n",
            "Collecting ColabTurtlePlus\n",
            "  Downloading ColabTurtlePlus-2.0.1-py3-none-any.whl (31 kB)\n",
            "Installing collected packages: ColabTurtlePlus\n",
            "Successfully installed ColabTurtlePlus-2.0.1\n"
          ]
        }
      ],
      "source": [
        "!pip install ColabTurtlePlus"
      ]
    },
    {
      "cell_type": "code",
      "source": [
        "from ColabTurtlePlus.Turtle import *\n",
        "from math import *"
      ],
      "metadata": {
        "id": "O1PG4_sLPmK2"
      },
      "execution_count": 4,
      "outputs": []
    },
    {
      "cell_type": "code",
      "source": [
        "clearscreen()\n",
        "\n",
        "t = Turtle()\n",
        "t.speed(13)\n",
        "print(mode())\n",
        "print(t.position())\n",
        "print(t.heading())\n",
        "\n",
        "t.pendown()\n",
        "for i in range(4):\n",
        "    t.forward(100)\n",
        "    t.left(90)\n",
        "    print(\"Direction\", t.heading(), \"Distance\", 100)\n",
        "\n",
        "t.color(\"red\")\n",
        "for i in range(3):\n",
        "    t.right(120)\n",
        "    t.forward(2 * 100/sqrt(3))\n"
      ],
      "metadata": {
        "colab": {
          "base_uri": "https://localhost:8080/",
          "height": 751
        },
        "id": "9PpCp700Pmmt",
        "outputId": "143b9406-20ea-4b41-b68a-2948e9a9d5f5"
      },
      "execution_count": 5,
      "outputs": [
        {
          "output_type": "display_data",
          "data": {
            "text/plain": [
              "<IPython.core.display.HTML object>"
            ],
            "text/html": [
              "\n",
              "      <svg width=\"800\" height=\"600\">  \n",
              "        <rect width=\"100%\" height=\"100%\" style=\"fill:white;stroke:;stroke-width:1\"/>\n",
              "        \n",
              "        \n",
              "        <line x1=\"400.0\" y1=\"300.0\" x2=\"500.0\" y2=\"300.0\" stroke-linecap=\"round\" style=\"stroke:black;stroke-width:1\" /><line x1=\"500.0\" y1=\"300.0\" x2=\"500.0\" y2=\"200.0\" stroke-linecap=\"round\" style=\"stroke:black;stroke-width:1\" /><line x1=\"500.0\" y1=\"200.0\" x2=\"400.0\" y2=\"200.0\" stroke-linecap=\"round\" style=\"stroke:black;stroke-width:1\" /><line x1=\"400.0\" y1=\"200.0\" x2=\"400.0\" y2=\"300.0\" stroke-linecap=\"round\" style=\"stroke:black;stroke-width:1\" /><line x1=\"400.0\" y1=\"300.0\" x2=\"342.265\" y2=\"400.0\" stroke-linecap=\"round\" style=\"stroke:red;stroke-width:1\" /><line x1=\"342.265\" y1=\"400.0\" x2=\"284.53\" y2=\"300.0\" stroke-linecap=\"round\" style=\"stroke:red;stroke-width:1\" /><line x1=\"284.53\" y1=\"300.0\" x2=\"294.53\" y2=\"300.0\" stroke-linecap=\"round\" style=\"stroke:red;stroke-width:1\" /><line x1=\"294.53\" y1=\"300.0\" x2=\"304.53\" y2=\"300.0\" stroke-linecap=\"round\" style=\"stroke:red;stroke-width:1\" /><line x1=\"304.53\" y1=\"300.0\" x2=\"314.53\" y2=\"300.0\" stroke-linecap=\"round\" style=\"stroke:red;stroke-width:1\" /><line x1=\"314.53\" y1=\"300.0\" x2=\"324.53\" y2=\"300.0\" stroke-linecap=\"round\" style=\"stroke:red;stroke-width:1\" /><line x1=\"324.53\" y1=\"300.0\" x2=\"334.53\" y2=\"300.0\" stroke-linecap=\"round\" style=\"stroke:red;stroke-width:1\" /><line x1=\"334.53\" y1=\"300.0\" x2=\"344.53\" y2=\"300.0\" stroke-linecap=\"round\" style=\"stroke:red;stroke-width:1\" /><line x1=\"344.53\" y1=\"300.0\" x2=\"354.53\" y2=\"300.0\" stroke-linecap=\"round\" style=\"stroke:red;stroke-width:1\" /><line x1=\"354.53\" y1=\"300.0\" x2=\"364.53\" y2=\"300.0\" stroke-linecap=\"round\" style=\"stroke:red;stroke-width:1\" /><line x1=\"364.53\" y1=\"300.0\" x2=\"374.53\" y2=\"300.0\" stroke-linecap=\"round\" style=\"stroke:red;stroke-width:1\" /><line x1=\"374.53\" y1=\"300.0\" x2=\"384.53\" y2=\"300.0\" stroke-linecap=\"round\" style=\"stroke:red;stroke-width:1\" /><line x1=\"384.53\" y1=\"300.0\" x2=\"394.53\" y2=\"300.0\" stroke-linecap=\"round\" style=\"stroke:red;stroke-width:1\" /><line x1=\"394.53\" y1=\"300.0\" x2=\"400.0000538379251\" y2=\"300.0\" stroke-linecap=\"round\" style=\"stroke:red;stroke-width:1\" />\n",
              "        \n",
              "        \n",
              "        <g id=\"classic\" visibility=\"visible\" transform=\"rotate(-90,400.0000538379251,300.0) translate(400.0000538379251, 300.0)\">\n",
              "<polygon points=\"-5,-4.5 0,-2.5 5,-4.5 0,4.5\" transform=\"skewX(0) scale(1,1)\" style=\"stroke:red;fill:red;stroke-width:1\" />\n",
              "</g>\n",
              "      </svg>\n",
              "    "
            ]
          },
          "metadata": {}
        },
        {
          "output_type": "stream",
          "name": "stdout",
          "text": [
            "standard\n",
            "(0.0, 0.0)\n",
            "0\n",
            "Direction 90 Distance 100\n",
            "Direction 180 Distance 100\n",
            "Direction 270 Distance 100\n",
            "Direction 0 Distance 100\n"
          ]
        }
      ]
    }
  ]
}