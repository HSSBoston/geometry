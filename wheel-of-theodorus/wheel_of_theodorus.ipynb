{
  "nbformat": 4,
  "nbformat_minor": 0,
  "metadata": {
    "colab": {
      "provenance": [],
      "authorship_tag": "ABX9TyMSZCQvCbWLwoVP7K+udIfK",
      "include_colab_link": true
    },
    "kernelspec": {
      "name": "python3",
      "display_name": "Python 3"
    },
    "language_info": {
      "name": "python"
    }
  },
  "cells": [
    {
      "cell_type": "markdown",
      "metadata": {
        "id": "view-in-github",
        "colab_type": "text"
      },
      "source": [
        "<a href=\"https://colab.research.google.com/github/HSSBoston/python-geometry/blob/main/wheel-of-theodorus/wheel_of_theodorus.ipynb\" target=\"_parent\"><img src=\"https://colab.research.google.com/assets/colab-badge.svg\" alt=\"Open In Colab\"/></a>"
      ]
    },
    {
      "cell_type": "code",
      "execution_count": 4,
      "metadata": {
        "colab": {
          "base_uri": "https://localhost:8080/"
        },
        "id": "R4WkQdk0NC2B",
        "outputId": "76e9dd0f-4c9c-41d7-a55d-70adc2c1219b"
      },
      "outputs": [
        {
          "output_type": "stream",
          "name": "stdout",
          "text": [
            "Looking in indexes: https://pypi.org/simple, https://us-python.pkg.dev/colab-wheels/public/simple/\n",
            "Requirement already satisfied: ColabTurtlePlus in /usr/local/lib/python3.8/dist-packages (2.0.1)\n"
          ]
        }
      ],
      "source": [
        "!pip install ColabTurtlePlus"
      ]
    },
    {
      "cell_type": "code",
      "source": [
        "from ColabTurtlePlus.Turtle import *\n",
        "from math import *"
      ],
      "metadata": {
        "id": "M9BgSqX-NWOX"
      },
      "execution_count": 5,
      "outputs": []
    },
    {
      "cell_type": "code",
      "source": [
        "clearscreen()\n",
        "\n",
        "t = Turtle()\n",
        "#t.speed(13)\n",
        "t.speed(0)\n",
        "print(t.position())\n",
        "print(t.heading())\n",
        "t.pendown()\n",
        "\n",
        "perpendicular = 25\n",
        "base = perpendicular\n",
        "\n",
        "def drawTriangle(base, perpendicular):\n",
        "    t.forward(base)\n",
        "#    print(\"direction\", t.heading(), \"distance\", base)\n",
        "    t.left(90)\n",
        "    t.forward(perpendicular)\n",
        "#    print(\"direction\", t.heading(), \"distance\", perpendicular)\n",
        "#    print(\"heading: \", t.heading(), \"degrees: \", t.towards(0,0))\n",
        "    t.left(t.towards(0,0) - t.heading())\n",
        "    hypotenuse = sqrt(base**2 + perpendicular**2)\n",
        "    t.forward(hypotenuse)\n",
        "#    print(\"direction\", t.heading(), \"distance\", hypotenuse)\n",
        "    print()\n",
        "    return hypotenuse\n",
        "\n",
        "for i in range(100):\n",
        "    base = drawTriangle(base, perpendicular)\n",
        "    t.right(180)\n",
        "done()"
      ],
      "metadata": {
        "colab": {
          "base_uri": "https://localhost:8080/",
          "height": 1000
        },
        "id": "WZnxJXu4NXJx",
        "outputId": "3a02e1ec-b439-4646-b2e1-6e8be9558a51"
      },
      "execution_count": 6,
      "outputs": [
        {
          "output_type": "display_data",
          "data": {
            "text/plain": [
              "<IPython.core.display.HTML object>"
            ],
            "text/html": [
              "\n",
              "      <svg width=\"800\" height=\"600\">  \n",
              "        <rect width=\"100%\" height=\"100%\" style=\"fill:white;stroke:;stroke-width:1\"/>\n",
              "        \n",
              "        \n",
              "        <line x1=\"400.0\" y1=\"300.0\" x2=\"425.0\" y2=\"300.0\" stroke-linecap=\"round\" style=\"stroke:black;stroke-width:1\" /><line x1=\"425.0\" y1=\"300.0\" x2=\"425.0\" y2=\"275.0\" stroke-linecap=\"round\" style=\"stroke:black;stroke-width:1\" /><line x1=\"425.0\" y1=\"275.0\" x2=\"400.0\" y2=\"300.0\" stroke-linecap=\"round\" style=\"stroke:black;stroke-width:1\" /><line x1=\"400.0\" y1=\"300.0\" x2=\"425.0\" y2=\"275.0\" stroke-linecap=\"round\" style=\"stroke:black;stroke-width:1\" /><line x1=\"425.0\" y1=\"275.0\" x2=\"407.322\" y2=\"257.322\" stroke-linecap=\"round\" style=\"stroke:black;stroke-width:1\" /><line x1=\"407.322\" y1=\"257.322\" x2=\"400.0\" y2=\"300.0\" stroke-linecap=\"round\" style=\"stroke:black;stroke-width:1\" /><line x1=\"400.0\" y1=\"300.0\" x2=\"407.322\" y2=\"257.322\" stroke-linecap=\"round\" style=\"stroke:black;stroke-width:1\" /><line x1=\"407.322\" y1=\"257.322\" x2=\"382.682\" y2=\"253.095\" stroke-linecap=\"round\" style=\"stroke:black;stroke-width:1\" /><line x1=\"382.682\" y1=\"253.095\" x2=\"400.0\" y2=\"300.0\" stroke-linecap=\"round\" style=\"stroke:black;stroke-width:1\" /><line x1=\"400.0\" y1=\"300.0\" x2=\"382.682\" y2=\"253.095\" stroke-linecap=\"round\" style=\"stroke:black;stroke-width:1\" /><line x1=\"382.682\" y1=\"253.095\" x2=\"359.229\" y2=\"261.754\" stroke-linecap=\"round\" style=\"stroke:black;stroke-width:1\" /><line x1=\"359.229\" y1=\"261.754\" x2=\"400.0\" y2=\"300.0\" stroke-linecap=\"round\" style=\"stroke:black;stroke-width:1\" /><line x1=\"400.0\" y1=\"300.0\" x2=\"359.229\" y2=\"261.754\" stroke-linecap=\"round\" style=\"stroke:black;stroke-width:1\" /><line x1=\"359.229\" y1=\"261.754\" x2=\"342.125\" y2=\"279.987\" stroke-linecap=\"round\" style=\"stroke:black;stroke-width:1\" /><line x1=\"342.125\" y1=\"279.987\" x2=\"400.0\" y2=\"300.0\" stroke-linecap=\"round\" style=\"stroke:black;stroke-width:1\" /><line x1=\"400.0\" y1=\"300.0\" x2=\"342.125\" y2=\"279.987\" stroke-linecap=\"round\" style=\"stroke:black;stroke-width:1\" /><line x1=\"342.125\" y1=\"279.987\" x2=\"333.955\" y2=\"303.614\" stroke-linecap=\"round\" style=\"stroke:black;stroke-width:1\" /><line x1=\"333.955\" y1=\"303.614\" x2=\"400.0\" y2=\"300.0\" stroke-linecap=\"round\" style=\"stroke:black;stroke-width:1\" /><line x1=\"400.0\" y1=\"300.0\" x2=\"333.955\" y2=\"303.614\" stroke-linecap=\"round\" style=\"stroke:black;stroke-width:1\" /><line x1=\"333.955\" y1=\"303.614\" x2=\"335.321\" y2=\"328.577\" stroke-linecap=\"round\" style=\"stroke:black;stroke-width:1\" /><line x1=\"335.321\" y1=\"328.577\" x2=\"400.0\" y2=\"300.0\" stroke-linecap=\"round\" style=\"stroke:black;stroke-width:1\" /><line x1=\"400.0\" y1=\"300.0\" x2=\"335.321\" y2=\"328.577\" stroke-linecap=\"round\" style=\"stroke:black;stroke-width:1\" /><line x1=\"335.321\" y1=\"328.577\" x2=\"345.424\" y2=\"351.444\" stroke-linecap=\"round\" style=\"stroke:black;stroke-width:1\" /><line x1=\"345.424\" y1=\"351.444\" x2=\"400.0\" y2=\"300.0\" stroke-linecap=\"round\" style=\"stroke:black;stroke-width:1\" /><line x1=\"400.0\" y1=\"300.0\" x2=\"345.424\" y2=\"351.444\" stroke-linecap=\"round\" style=\"stroke:black;stroke-width:1\" /><line x1=\"345.424\" y1=\"351.444\" x2=\"362.572\" y2=\"369.636\" stroke-linecap=\"round\" style=\"stroke:black;stroke-width:1\" /><line x1=\"362.572\" y1=\"369.636\" x2=\"400.0\" y2=\"300.0\" stroke-linecap=\"round\" style=\"stroke:black;stroke-width:1\" /><line x1=\"400.0\" y1=\"300.0\" x2=\"362.572\" y2=\"369.636\" stroke-linecap=\"round\" style=\"stroke:black;stroke-width:1\" /><line x1=\"362.572\" y1=\"369.636\" x2=\"384.593\" y2=\"381.472\" stroke-linecap=\"round\" style=\"stroke:black;stroke-width:1\" /><line x1=\"384.593\" y1=\"381.472\" x2=\"400.0\" y2=\"300.0\" stroke-linecap=\"round\" style=\"stroke:black;stroke-width:1\" /><line x1=\"400.0\" y1=\"300.0\" x2=\"384.593\" y2=\"381.472\" stroke-linecap=\"round\" style=\"stroke:black;stroke-width:1\" /><line x1=\"384.593\" y1=\"381.472\" x2=\"409.158\" y2=\"386.117\" stroke-linecap=\"round\" style=\"stroke:black;stroke-width:1\" /><line x1=\"409.158\" y1=\"386.117\" x2=\"400.0\" y2=\"300.0\" stroke-linecap=\"round\" style=\"stroke:black;stroke-width:1\" /><line x1=\"400.0\" y1=\"300.0\" x2=\"409.158\" y2=\"386.117\" stroke-linecap=\"round\" style=\"stroke:black;stroke-width:1\" /><line x1=\"409.158\" y1=\"386.117\" x2=\"434.018\" y2=\"383.473\" stroke-linecap=\"round\" style=\"stroke:black;stroke-width:1\" /><line x1=\"434.018\" y1=\"383.473\" x2=\"400.0\" y2=\"300.0\" stroke-linecap=\"round\" style=\"stroke:black;stroke-width:1\" /><line x1=\"400.0\" y1=\"300.0\" x2=\"434.018\" y2=\"383.473\" stroke-linecap=\"round\" style=\"stroke:black;stroke-width:1\" /><line x1=\"434.018\" y1=\"383.473\" x2=\"457.169\" y2=\"374.038\" stroke-linecap=\"round\" style=\"stroke:black;stroke-width:1\" /><line x1=\"457.169\" y1=\"374.038\" x2=\"400.0\" y2=\"300.0\" stroke-linecap=\"round\" style=\"stroke:black;stroke-width:1\" /><line x1=\"400.0\" y1=\"300.0\" x2=\"457.169\" y2=\"374.038\" stroke-linecap=\"round\" style=\"stroke:black;stroke-width:1\" /><line x1=\"457.169\" y1=\"374.038\" x2=\"476.957\" y2=\"358.759\" stroke-linecap=\"round\" style=\"stroke:black;stroke-width:1\" /><line x1=\"476.957\" y1=\"358.759\" x2=\"400.0\" y2=\"300.0\" stroke-linecap=\"round\" style=\"stroke:black;stroke-width:1\" /><line x1=\"400.0\" y1=\"300.0\" x2=\"476.957\" y2=\"358.759\" stroke-linecap=\"round\" style=\"stroke:black;stroke-width:1\" /><line x1=\"476.957\" y1=\"358.759\" x2=\"492.129\" y2=\"338.889\" stroke-linecap=\"round\" style=\"stroke:black;stroke-width:1\" /><line x1=\"492.129\" y1=\"338.889\" x2=\"400.0\" y2=\"300.0\" stroke-linecap=\"round\" style=\"stroke:black;stroke-width:1\" /><line x1=\"400.0\" y1=\"300.0\" x2=\"492.129\" y2=\"338.889\" stroke-linecap=\"round\" style=\"stroke:black;stroke-width:1\" /><line x1=\"492.129\" y1=\"338.889\" x2=\"501.851\" y2=\"315.857\" stroke-linecap=\"round\" style=\"stroke:black;stroke-width:1\" /><line x1=\"501.851\" y1=\"315.857\" x2=\"400.0\" y2=\"300.0\" stroke-linecap=\"round\" style=\"stroke:black;stroke-width:1\" /><line x1=\"400.0\" y1=\"300.0\" x2=\"501.851\" y2=\"315.857\" stroke-linecap=\"round\" style=\"stroke:black;stroke-width:1\" /><line x1=\"501.851\" y1=\"315.857\" x2=\"505.697\" y2=\"291.155\" stroke-linecap=\"round\" style=\"stroke:black;stroke-width:1\" /><line x1=\"505.697\" y1=\"291.155\" x2=\"400.0\" y2=\"300.0\" stroke-linecap=\"round\" style=\"stroke:black;stroke-width:1\" /><line x1=\"400.0\" y1=\"300.0\" x2=\"505.697\" y2=\"291.155\" stroke-linecap=\"round\" style=\"stroke:black;stroke-width:1\" /><line x1=\"505.697\" y1=\"291.155\" x2=\"503.612\" y2=\"266.242\" stroke-linecap=\"round\" style=\"stroke:black;stroke-width:1\" /><line x1=\"503.612\" y1=\"266.242\" x2=\"400.0\" y2=\"300.0\" stroke-linecap=\"round\" style=\"stroke:black;stroke-width:1\" /><line x1=\"400.0\" y1=\"300.0\" x2=\"503.612\" y2=\"266.242\" stroke-linecap=\"round\" style=\"stroke:black;stroke-width:1\" /><line x1=\"503.612\" y1=\"266.242\" x2=\"495.867\" y2=\"242.472\" stroke-linecap=\"round\" style=\"stroke:black;stroke-width:1\" /><line x1=\"495.867\" y1=\"242.472\" x2=\"400.0\" y2=\"300.0\" stroke-linecap=\"round\" style=\"stroke:black;stroke-width:1\" /><line x1=\"400.0\" y1=\"300.0\" x2=\"495.867\" y2=\"242.472\" stroke-linecap=\"round\" style=\"stroke:black;stroke-width:1\" /><line x1=\"495.867\" y1=\"242.472\" x2=\"483.003\" y2=\"221.035\" stroke-linecap=\"round\" style=\"stroke:black;stroke-width:1\" /><line x1=\"483.003\" y1=\"221.035\" x2=\"400.0\" y2=\"300.0\" stroke-linecap=\"round\" style=\"stroke:black;stroke-width:1\" /><line x1=\"400.0\" y1=\"300.0\" x2=\"483.003\" y2=\"221.035\" stroke-linecap=\"round\" style=\"stroke:black;stroke-width:1\" /><line x1=\"483.003\" y1=\"221.035\" x2=\"465.771\" y2=\"202.922\" stroke-linecap=\"round\" style=\"stroke:black;stroke-width:1\" /><line x1=\"465.771\" y1=\"202.922\" x2=\"400.0\" y2=\"300.0\" stroke-linecap=\"round\" style=\"stroke:black;stroke-width:1\" /><line x1=\"400.0\" y1=\"300.0\" x2=\"465.771\" y2=\"202.922\" stroke-linecap=\"round\" style=\"stroke:black;stroke-width:1\" /><line x1=\"465.771\" y1=\"202.922\" x2=\"445.074\" y2=\"188.9\" stroke-linecap=\"round\" style=\"stroke:black;stroke-width:1\" /><line x1=\"445.074\" y1=\"188.9\" x2=\"400.0\" y2=\"300.0\" stroke-linecap=\"round\" style=\"stroke:black;stroke-width:1\" /><line x1=\"400.0\" y1=\"300.0\" x2=\"445.074\" y2=\"188.9\" stroke-linecap=\"round\" style=\"stroke:black;stroke-width:1\" /><line x1=\"445.074\" y1=\"188.9\" x2=\"421.908\" y2=\"179.501\" stroke-linecap=\"round\" style=\"stroke:black;stroke-width:1\" /><line x1=\"421.908\" y1=\"179.501\" x2=\"400.0\" y2=\"300.0\" stroke-linecap=\"round\" style=\"stroke:black;stroke-width:1\" /><line x1=\"400.0\" y1=\"300.0\" x2=\"421.908\" y2=\"179.501\" stroke-linecap=\"round\" style=\"stroke:black;stroke-width:1\" /><line x1=\"421.908\" y1=\"179.501\" x2=\"397.311\" y2=\"175.029\" stroke-linecap=\"round\" style=\"stroke:black;stroke-width:1\" /><line x1=\"397.311\" y1=\"175.029\" x2=\"400.0\" y2=\"300.0\" stroke-linecap=\"round\" style=\"stroke:black;stroke-width:1\" /><line x1=\"400.0\" y1=\"300.0\" x2=\"397.311\" y2=\"175.029\" stroke-linecap=\"round\" style=\"stroke:black;stroke-width:1\" /><line x1=\"397.311\" y1=\"175.029\" x2=\"372.317\" y2=\"175.567\" stroke-linecap=\"round\" style=\"stroke:black;stroke-width:1\" /><line x1=\"372.317\" y1=\"175.567\" x2=\"400.0\" y2=\"300.0\" stroke-linecap=\"round\" style=\"stroke:black;stroke-width:1\" /><line x1=\"400.0\" y1=\"300.0\" x2=\"372.317\" y2=\"175.567\" stroke-linecap=\"round\" style=\"stroke:black;stroke-width:1\" /><line x1=\"372.317\" y1=\"175.567\" x2=\"347.914\" y2=\"180.996\" stroke-linecap=\"round\" style=\"stroke:black;stroke-width:1\" /><line x1=\"347.914\" y1=\"180.996\" x2=\"400.0\" y2=\"300.0\" stroke-linecap=\"round\" style=\"stroke:black;stroke-width:1\" /><line x1=\"400.0\" y1=\"300.0\" x2=\"347.914\" y2=\"180.996\" stroke-linecap=\"round\" style=\"stroke:black;stroke-width:1\" /><line x1=\"347.914\" y1=\"180.996\" x2=\"325.012\" y2=\"191.02\" stroke-linecap=\"round\" style=\"stroke:black;stroke-width:1\" /><line x1=\"325.012\" y1=\"191.02\" x2=\"400.0\" y2=\"300.0\" stroke-linecap=\"round\" style=\"stroke:black;stroke-width:1\" /><line x1=\"400.0\" y1=\"300.0\" x2=\"325.012\" y2=\"191.02\" stroke-linecap=\"round\" style=\"stroke:black;stroke-width:1\" /><line x1=\"325.012\" y1=\"191.02\" x2=\"304.417\" y2=\"205.191\" stroke-linecap=\"round\" style=\"stroke:black;stroke-width:1\" /><line x1=\"304.417\" y1=\"205.191\" x2=\"400.0\" y2=\"300.0\" stroke-linecap=\"round\" style=\"stroke:black;stroke-width:1\" /><line x1=\"400.0\" y1=\"300.0\" x2=\"304.417\" y2=\"205.191\" stroke-linecap=\"round\" style=\"stroke:black;stroke-width:1\" /><line x1=\"304.417\" y1=\"205.191\" x2=\"286.811\" y2=\"222.94\" stroke-linecap=\"round\" style=\"stroke:black;stroke-width:1\" /><line x1=\"286.811\" y1=\"222.94\" x2=\"400.0\" y2=\"300.0\" stroke-linecap=\"round\" style=\"stroke:black;stroke-width:1\" /><line x1=\"400.0\" y1=\"300.0\" x2=\"286.811\" y2=\"222.94\" stroke-linecap=\"round\" style=\"stroke:black;stroke-width:1\" /><line x1=\"286.811\" y1=\"222.94\" x2=\"272.742\" y2=\"243.605\" stroke-linecap=\"round\" style=\"stroke:black;stroke-width:1\" /><line x1=\"272.742\" y1=\"243.605\" x2=\"400.0\" y2=\"300.0\" stroke-linecap=\"round\" style=\"stroke:black;stroke-width:1\" /><line x1=\"400.0\" y1=\"300.0\" x2=\"272.742\" y2=\"243.605\" stroke-linecap=\"round\" style=\"stroke:black;stroke-width:1\" /><line x1=\"272.742\" y1=\"243.605\" x2=\"262.613\" y2=\"266.461\" stroke-linecap=\"round\" style=\"stroke:black;stroke-width:1\" /><line x1=\"262.613\" y1=\"266.461\" x2=\"400.0\" y2=\"300.0\" stroke-linecap=\"round\" style=\"stroke:black;stroke-width:1\" /><line x1=\"400.0\" y1=\"300.0\" x2=\"262.613\" y2=\"266.461\" stroke-linecap=\"round\" style=\"stroke:black;stroke-width:1\" /><line x1=\"262.613\" y1=\"266.461\" x2=\"256.684\" y2=\"290.748\" stroke-linecap=\"round\" style=\"stroke:black;stroke-width:1\" /><line x1=\"256.684\" y1=\"290.748\" x2=\"400.0\" y2=\"300.0\" stroke-linecap=\"round\" style=\"stroke:black;stroke-width:1\" /><line x1=\"400.0\" y1=\"300.0\" x2=\"256.684\" y2=\"290.748\" stroke-linecap=\"round\" style=\"stroke:black;stroke-width:1\" /><line x1=\"256.684\" y1=\"290.748\" x2=\"255.073\" y2=\"315.696\" stroke-linecap=\"round\" style=\"stroke:black;stroke-width:1\" /><line x1=\"255.073\" y1=\"315.696\" x2=\"399.999\" y2=\"300.0\" stroke-linecap=\"round\" style=\"stroke:black;stroke-width:1\" /><line x1=\"399.999\" y1=\"300.0\" x2=\"255.073\" y2=\"315.696\" stroke-linecap=\"round\" style=\"stroke:black;stroke-width:1\" /><line x1=\"255.073\" y1=\"315.696\" x2=\"257.765\" y2=\"340.551\" stroke-linecap=\"round\" style=\"stroke:black;stroke-width:1\" /><line x1=\"257.765\" y1=\"340.551\" x2=\"399.999\" y2=\"300.0\" stroke-linecap=\"round\" style=\"stroke:black;stroke-width:1\" /><line x1=\"399.999\" y1=\"300.0\" x2=\"257.765\" y2=\"340.551\" stroke-linecap=\"round\" style=\"stroke:black;stroke-width:1\" /><line x1=\"257.765\" y1=\"340.551\" x2=\"264.619\" y2=\"364.593\" stroke-linecap=\"round\" style=\"stroke:black;stroke-width:1\" /><line x1=\"264.619\" y1=\"364.593\" x2=\"399.999\" y2=\"300.0\" stroke-linecap=\"round\" style=\"stroke:black;stroke-width:1\" /><line x1=\"399.999\" y1=\"300.0\" x2=\"264.619\" y2=\"364.593\" stroke-linecap=\"round\" style=\"stroke:black;stroke-width:1\" /><line x1=\"264.619\" y1=\"364.593\" x2=\"275.384\" y2=\"387.156\" stroke-linecap=\"round\" style=\"stroke:black;stroke-width:1\" /><line x1=\"275.384\" y1=\"387.156\" x2=\"399.999\" y2=\"300.001\" stroke-linecap=\"round\" style=\"stroke:black;stroke-width:1\" /><line x1=\"399.999\" y1=\"300.001\" x2=\"275.384\" y2=\"387.156\" stroke-linecap=\"round\" style=\"stroke:black;stroke-width:1\" /><line x1=\"275.384\" y1=\"387.156\" x2=\"289.712\" y2=\"407.643\" stroke-linecap=\"round\" style=\"stroke:black;stroke-width:1\" /><line x1=\"289.712\" y1=\"407.643\" x2=\"399.999\" y2=\"300.001\" stroke-linecap=\"round\" style=\"stroke:black;stroke-width:1\" /><line x1=\"399.999\" y1=\"300.001\" x2=\"289.712\" y2=\"407.643\" stroke-linecap=\"round\" style=\"stroke:black;stroke-width:1\" /><line x1=\"289.712\" y1=\"407.643\" x2=\"307.174\" y2=\"425.534\" stroke-linecap=\"round\" style=\"stroke:black;stroke-width:1\" /><line x1=\"307.174\" y1=\"425.534\" x2=\"399.999\" y2=\"300.001\" stroke-linecap=\"round\" style=\"stroke:black;stroke-width:1\" /><line x1=\"399.999\" y1=\"300.001\" x2=\"307.174\" y2=\"425.534\" stroke-linecap=\"round\" style=\"stroke:black;stroke-width:1\" /><line x1=\"307.174\" y1=\"425.534\" x2=\"327.275\" y2=\"440.398\" stroke-linecap=\"round\" style=\"stroke:black;stroke-width:1\" /><line x1=\"327.275\" y1=\"440.398\" x2=\"399.999\" y2=\"300.001\" stroke-linecap=\"round\" style=\"stroke:black;stroke-width:1\" /><line x1=\"399.999\" y1=\"300.001\" x2=\"327.275\" y2=\"440.398\" stroke-linecap=\"round\" style=\"stroke:black;stroke-width:1\" /><line x1=\"327.275\" y1=\"440.398\" x2=\"349.474\" y2=\"451.897\" stroke-linecap=\"round\" style=\"stroke:black;stroke-width:1\" /><line x1=\"349.474\" y1=\"451.897\" x2=\"399.999\" y2=\"300.002\" stroke-linecap=\"round\" style=\"stroke:black;stroke-width:1\" /><line x1=\"399.999\" y1=\"300.002\" x2=\"349.474\" y2=\"451.897\" stroke-linecap=\"round\" style=\"stroke:black;stroke-width:1\" /><line x1=\"349.474\" y1=\"451.897\" x2=\"373.196\" y2=\"459.788\" stroke-linecap=\"round\" style=\"stroke:black;stroke-width:1\" /><line x1=\"373.196\" y1=\"459.788\" x2=\"400.0\" y2=\"300.002\" stroke-linecap=\"round\" style=\"stroke:black;stroke-width:1\" /><line x1=\"400.0\" y1=\"300.002\" x2=\"373.196\" y2=\"459.788\" stroke-linecap=\"round\" style=\"stroke:black;stroke-width:1\" /><line x1=\"373.196\" y1=\"459.788\" x2=\"397.852\" y2=\"463.924\" stroke-linecap=\"round\" style=\"stroke:black;stroke-width:1\" /><line x1=\"397.852\" y1=\"463.924\" x2=\"400.0\" y2=\"300.002\" stroke-linecap=\"round\" style=\"stroke:black;stroke-width:1\" /><line x1=\"400.0\" y1=\"300.002\" x2=\"397.852\" y2=\"463.924\" stroke-linecap=\"round\" style=\"stroke:black;stroke-width:1\" /><line x1=\"397.852\" y1=\"463.924\" x2=\"422.85\" y2=\"464.252\" stroke-linecap=\"round\" style=\"stroke:black;stroke-width:1\" /><line x1=\"422.85\" y1=\"464.252\" x2=\"400.0\" y2=\"300.003\" stroke-linecap=\"round\" style=\"stroke:black;stroke-width:1\" /><line x1=\"400.0\" y1=\"300.003\" x2=\"422.85\" y2=\"464.252\" stroke-linecap=\"round\" style=\"stroke:black;stroke-width:1\" /><line x1=\"422.85\" y1=\"464.252\" x2=\"447.612\" y2=\"460.807\" stroke-linecap=\"round\" style=\"stroke:black;stroke-width:1\" /><line x1=\"447.612\" y1=\"460.807\" x2=\"400.001\" y2=\"300.002\" stroke-linecap=\"round\" style=\"stroke:black;stroke-width:1\" /><line x1=\"400.001\" y1=\"300.002\" x2=\"447.612\" y2=\"460.807\" stroke-linecap=\"round\" style=\"stroke:black;stroke-width:1\" /><line x1=\"447.612\" y1=\"460.807\" x2=\"471.583\" y2=\"453.71\" stroke-linecap=\"round\" style=\"stroke:black;stroke-width:1\" /><line x1=\"471.583\" y1=\"453.71\" x2=\"400.001\" y2=\"300.002\" stroke-linecap=\"round\" style=\"stroke:black;stroke-width:1\" /><line x1=\"400.001\" y1=\"300.002\" x2=\"471.583\" y2=\"453.71\" stroke-linecap=\"round\" style=\"stroke:black;stroke-width:1\" /><line x1=\"471.583\" y1=\"453.71\" x2=\"494.246\" y2=\"443.156\" stroke-linecap=\"round\" style=\"stroke:black;stroke-width:1\" /><line x1=\"494.246\" y1=\"443.156\" x2=\"400.002\" y2=\"300.002\" stroke-linecap=\"round\" style=\"stroke:black;stroke-width:1\" /><line x1=\"400.002\" y1=\"300.002\" x2=\"494.246\" y2=\"443.156\" stroke-linecap=\"round\" style=\"stroke:black;stroke-width:1\" /><line x1=\"494.246\" y1=\"443.156\" x2=\"515.127\" y2=\"429.409\" stroke-linecap=\"round\" style=\"stroke:black;stroke-width:1\" /><line x1=\"515.127\" y1=\"429.409\" x2=\"400.002\" y2=\"300.002\" stroke-linecap=\"round\" style=\"stroke:black;stroke-width:1\" /><line x1=\"400.002\" y1=\"300.002\" x2=\"515.127\" y2=\"429.409\" stroke-linecap=\"round\" style=\"stroke:black;stroke-width:1\" /><line x1=\"515.127\" y1=\"429.409\" x2=\"533.805\" y2=\"412.792\" stroke-linecap=\"round\" style=\"stroke:black;stroke-width:1\" /><line x1=\"533.805\" y1=\"412.792\" x2=\"400.002\" y2=\"300.001\" stroke-linecap=\"round\" style=\"stroke:black;stroke-width:1\" /><line x1=\"400.002\" y1=\"300.001\" x2=\"533.805\" y2=\"412.792\" stroke-linecap=\"round\" style=\"stroke:black;stroke-width:1\" /><line x1=\"533.805\" y1=\"412.792\" x2=\"549.918\" y2=\"393.677\" stroke-linecap=\"round\" style=\"stroke:black;stroke-width:1\" /><line x1=\"549.918\" y1=\"393.677\" x2=\"400.002\" y2=\"300.001\" stroke-linecap=\"round\" style=\"stroke:black;stroke-width:1\" /><line x1=\"400.002\" y1=\"300.001\" x2=\"549.918\" y2=\"393.677\" stroke-linecap=\"round\" style=\"stroke:black;stroke-width:1\" /><line x1=\"549.918\" y1=\"393.677\" x2=\"563.166\" y2=\"372.476\" stroke-linecap=\"round\" style=\"stroke:black;stroke-width:1\" /><line x1=\"563.166\" y1=\"372.476\" x2=\"400.002\" y2=\"300.001\" stroke-linecap=\"round\" style=\"stroke:black;stroke-width:1\" /><line x1=\"400.002\" y1=\"300.001\" x2=\"563.166\" y2=\"372.476\" stroke-linecap=\"round\" style=\"stroke:black;stroke-width:1\" /><line x1=\"563.166\" y1=\"372.476\" x2=\"573.315\" y2=\"349.629\" stroke-linecap=\"round\" style=\"stroke:black;stroke-width:1\" /><line x1=\"573.315\" y1=\"349.629\" x2=\"400.003\" y2=\"300.001\" stroke-linecap=\"round\" style=\"stroke:black;stroke-width:1\" /><line x1=\"400.003\" y1=\"300.001\" x2=\"573.315\" y2=\"349.629\" stroke-linecap=\"round\" style=\"stroke:black;stroke-width:1\" /><line x1=\"573.315\" y1=\"349.629\" x2=\"580.197\" y2=\"325.595\" stroke-linecap=\"round\" style=\"stroke:black;stroke-width:1\" /><line x1=\"580.197\" y1=\"325.595\" x2=\"400.003\" y2=\"300.0\" stroke-linecap=\"round\" style=\"stroke:black;stroke-width:1\" /><line x1=\"400.003\" y1=\"300.0\" x2=\"580.197\" y2=\"325.595\" stroke-linecap=\"round\" style=\"stroke:black;stroke-width:1\" /><line x1=\"580.197\" y1=\"325.595\" x2=\"583.713\" y2=\"300.843\" stroke-linecap=\"round\" style=\"stroke:black;stroke-width:1\" /><line x1=\"583.713\" y1=\"300.843\" x2=\"400.003\" y2=\"300.0\" stroke-linecap=\"round\" style=\"stroke:black;stroke-width:1\" /><line x1=\"400.003\" y1=\"300.0\" x2=\"583.713\" y2=\"300.843\" stroke-linecap=\"round\" style=\"stroke:black;stroke-width:1\" /><line x1=\"583.713\" y1=\"300.843\" x2=\"583.828\" y2=\"275.843\" stroke-linecap=\"round\" style=\"stroke:black;stroke-width:1\" /><line x1=\"583.828\" y1=\"275.843\" x2=\"400.003\" y2=\"300.0\" stroke-linecap=\"round\" style=\"stroke:black;stroke-width:1\" /><line x1=\"400.003\" y1=\"300.0\" x2=\"583.828\" y2=\"275.843\" stroke-linecap=\"round\" style=\"stroke:black;stroke-width:1\" /><line x1=\"583.828\" y1=\"275.843\" x2=\"580.571\" y2=\"251.056\" stroke-linecap=\"round\" style=\"stroke:black;stroke-width:1\" /><line x1=\"580.571\" y1=\"251.056\" x2=\"400.004\" y2=\"299.999\" stroke-linecap=\"round\" style=\"stroke:black;stroke-width:1\" /><line x1=\"400.004\" y1=\"299.999\" x2=\"580.571\" y2=\"251.056\" stroke-linecap=\"round\" style=\"stroke:black;stroke-width:1\" /><line x1=\"580.571\" y1=\"251.056\" x2=\"574.031\" y2=\"226.927\" stroke-linecap=\"round\" style=\"stroke:black;stroke-width:1\" /><line x1=\"574.031\" y1=\"226.927\" x2=\"400.004\" y2=\"299.999\" stroke-linecap=\"round\" style=\"stroke:black;stroke-width:1\" /><line x1=\"400.004\" y1=\"299.999\" x2=\"574.031\" y2=\"226.927\" stroke-linecap=\"round\" style=\"stroke:black;stroke-width:1\" /><line x1=\"574.031\" y1=\"226.927\" x2=\"564.352\" y2=\"203.877\" stroke-linecap=\"round\" style=\"stroke:black;stroke-width:1\" /><line x1=\"564.352\" y1=\"203.877\" x2=\"400.003\" y2=\"299.998\" stroke-linecap=\"round\" style=\"stroke:black;stroke-width:1\" /><line x1=\"400.003\" y1=\"299.998\" x2=\"564.352\" y2=\"203.877\" stroke-linecap=\"round\" style=\"stroke:black;stroke-width:1\" /><line x1=\"564.352\" y1=\"203.877\" x2=\"551.731\" y2=\"182.297\" stroke-linecap=\"round\" style=\"stroke:black;stroke-width:1\" /><line x1=\"551.731\" y1=\"182.297\" x2=\"400.003\" y2=\"299.998\" stroke-linecap=\"round\" style=\"stroke:black;stroke-width:1\" /><line x1=\"400.003\" y1=\"299.998\" x2=\"551.731\" y2=\"182.297\" stroke-linecap=\"round\" style=\"stroke:black;stroke-width:1\" /><line x1=\"551.731\" y1=\"182.297\" x2=\"536.408\" y2=\"162.544\" stroke-linecap=\"round\" style=\"stroke:black;stroke-width:1\" /><line x1=\"536.408\" y1=\"162.544\" x2=\"400.002\" y2=\"299.998\" stroke-linecap=\"round\" style=\"stroke:black;stroke-width:1\" /><line x1=\"400.002\" y1=\"299.998\" x2=\"536.408\" y2=\"162.544\" stroke-linecap=\"round\" style=\"stroke:black;stroke-width:1\" /><line x1=\"536.408\" y1=\"162.544\" x2=\"518.663\" y2=\"144.934\" stroke-linecap=\"round\" style=\"stroke:black;stroke-width:1\" /><line x1=\"518.663\" y1=\"144.934\" x2=\"400.002\" y2=\"299.997\" stroke-linecap=\"round\" style=\"stroke:black;stroke-width:1\" /><line x1=\"400.002\" y1=\"299.997\" x2=\"518.663\" y2=\"144.934\" stroke-linecap=\"round\" style=\"stroke:black;stroke-width:1\" /><line x1=\"518.663\" y1=\"144.934\" x2=\"498.809\" y2=\"129.741\" stroke-linecap=\"round\" style=\"stroke:black;stroke-width:1\" /><line x1=\"498.809\" y1=\"129.741\" x2=\"400.002\" y2=\"299.997\" stroke-linecap=\"round\" style=\"stroke:black;stroke-width:1\" /><line x1=\"400.002\" y1=\"299.997\" x2=\"498.809\" y2=\"129.741\" stroke-linecap=\"round\" style=\"stroke:black;stroke-width:1\" /><line x1=\"498.809\" y1=\"129.741\" x2=\"477.186\" y2=\"117.192\" stroke-linecap=\"round\" style=\"stroke:black;stroke-width:1\" /><line x1=\"477.186\" y1=\"117.192\" x2=\"400.001\" y2=\"299.997\" stroke-linecap=\"round\" style=\"stroke:black;stroke-width:1\" /><line x1=\"400.001\" y1=\"299.997\" x2=\"477.186\" y2=\"117.192\" stroke-linecap=\"round\" style=\"stroke:black;stroke-width:1\" /><line x1=\"477.186\" y1=\"117.192\" x2=\"454.155\" y2=\"107.468\" stroke-linecap=\"round\" style=\"stroke:black;stroke-width:1\" /><line x1=\"454.155\" y1=\"107.468\" x2=\"400.001\" y2=\"299.997\" stroke-linecap=\"round\" style=\"stroke:black;stroke-width:1\" /><line x1=\"400.001\" y1=\"299.997\" x2=\"454.155\" y2=\"107.468\" stroke-linecap=\"round\" style=\"stroke:black;stroke-width:1\" /><line x1=\"454.155\" y1=\"107.468\" x2=\"430.089\" y2=\"100.699\" stroke-linecap=\"round\" style=\"stroke:black;stroke-width:1\" /><line x1=\"430.089\" y1=\"100.699\" x2=\"400.0\" y2=\"299.997\" stroke-linecap=\"round\" style=\"stroke:black;stroke-width:1\" /><line x1=\"400.0\" y1=\"299.997\" x2=\"430.089\" y2=\"100.699\" stroke-linecap=\"round\" style=\"stroke:black;stroke-width:1\" /><line x1=\"430.089\" y1=\"100.699\" x2=\"405.369\" y2=\"96.967\" stroke-linecap=\"round\" style=\"stroke:black;stroke-width:1\" /><line x1=\"405.369\" y1=\"96.967\" x2=\"400.0\" y2=\"299.997\" stroke-linecap=\"round\" style=\"stroke:black;stroke-width:1\" /><line x1=\"400.0\" y1=\"299.997\" x2=\"405.369\" y2=\"96.967\" stroke-linecap=\"round\" style=\"stroke:black;stroke-width:1\" /><line x1=\"405.369\" y1=\"96.967\" x2=\"380.378\" y2=\"96.306\" stroke-linecap=\"round\" style=\"stroke:black;stroke-width:1\" /><line x1=\"380.378\" y1=\"96.306\" x2=\"400.0\" y2=\"299.997\" stroke-linecap=\"round\" style=\"stroke:black;stroke-width:1\" /><line x1=\"400.0\" y1=\"299.997\" x2=\"380.378\" y2=\"96.306\" stroke-linecap=\"round\" style=\"stroke:black;stroke-width:1\" /><line x1=\"380.378\" y1=\"96.306\" x2=\"355.493\" y2=\"98.703\" stroke-linecap=\"round\" style=\"stroke:black;stroke-width:1\" /><line x1=\"355.493\" y1=\"98.703\" x2=\"399.999\" y2=\"299.997\" stroke-linecap=\"round\" style=\"stroke:black;stroke-width:1\" /><line x1=\"399.999\" y1=\"299.997\" x2=\"355.493\" y2=\"98.703\" stroke-linecap=\"round\" style=\"stroke:black;stroke-width:1\" /><line x1=\"355.493\" y1=\"98.703\" x2=\"331.083\" y2=\"104.1\" stroke-linecap=\"round\" style=\"stroke:black;stroke-width:1\" /><line x1=\"331.083\" y1=\"104.1\" x2=\"399.999\" y2=\"299.997\" stroke-linecap=\"round\" style=\"stroke:black;stroke-width:1\" /><line x1=\"399.999\" y1=\"299.997\" x2=\"331.083\" y2=\"104.1\" stroke-linecap=\"round\" style=\"stroke:black;stroke-width:1\" /><line x1=\"331.083\" y1=\"104.1\" x2=\"307.5\" y2=\"112.397\" stroke-linecap=\"round\" style=\"stroke:black;stroke-width:1\" /><line x1=\"307.5\" y1=\"112.397\" x2=\"399.999\" y2=\"299.998\" stroke-linecap=\"round\" style=\"stroke:black;stroke-width:1\" /><line x1=\"399.999\" y1=\"299.998\" x2=\"307.5\" y2=\"112.397\" stroke-linecap=\"round\" style=\"stroke:black;stroke-width:1\" /><line x1=\"307.5\" y1=\"112.397\" x2=\"285.077\" y2=\"123.453\" stroke-linecap=\"round\" style=\"stroke:black;stroke-width:1\" /><line x1=\"285.077\" y1=\"123.453\" x2=\"399.999\" y2=\"299.998\" stroke-linecap=\"round\" style=\"stroke:black;stroke-width:1\" /><line x1=\"399.999\" y1=\"299.998\" x2=\"285.077\" y2=\"123.453\" stroke-linecap=\"round\" style=\"stroke:black;stroke-width:1\" /><line x1=\"285.077\" y1=\"123.453\" x2=\"264.125\" y2=\"137.092\" stroke-linecap=\"round\" style=\"stroke:black;stroke-width:1\" /><line x1=\"264.125\" y1=\"137.092\" x2=\"399.998\" y2=\"299.998\" stroke-linecap=\"round\" style=\"stroke:black;stroke-width:1\" /><line x1=\"399.998\" y1=\"299.998\" x2=\"264.125\" y2=\"137.092\" stroke-linecap=\"round\" style=\"stroke:black;stroke-width:1\" /><line x1=\"264.125\" y1=\"137.092\" x2=\"244.926\" y2=\"153.105\" stroke-linecap=\"round\" style=\"stroke:black;stroke-width:1\" /><line x1=\"244.926\" y1=\"153.105\" x2=\"399.998\" y2=\"299.998\" stroke-linecap=\"round\" style=\"stroke:black;stroke-width:1\" /><line x1=\"399.998\" y1=\"299.998\" x2=\"244.926\" y2=\"153.105\" stroke-linecap=\"round\" style=\"stroke:black;stroke-width:1\" /><line x1=\"244.926\" y1=\"153.105\" x2=\"227.733\" y2=\"171.255\" stroke-linecap=\"round\" style=\"stroke:black;stroke-width:1\" /><line x1=\"227.733\" y1=\"171.255\" x2=\"399.998\" y2=\"299.998\" stroke-linecap=\"round\" style=\"stroke:black;stroke-width:1\" /><line x1=\"399.998\" y1=\"299.998\" x2=\"227.733\" y2=\"171.255\" stroke-linecap=\"round\" style=\"stroke:black;stroke-width:1\" /><line x1=\"227.733\" y1=\"171.255\" x2=\"212.767\" y2=\"191.28\" stroke-linecap=\"round\" style=\"stroke:black;stroke-width:1\" /><line x1=\"212.767\" y1=\"191.28\" x2=\"399.998\" y2=\"299.999\" stroke-linecap=\"round\" style=\"stroke:black;stroke-width:1\" /><line x1=\"399.998\" y1=\"299.999\" x2=\"212.767\" y2=\"191.28\" stroke-linecap=\"round\" style=\"stroke:black;stroke-width:1\" /><line x1=\"212.767\" y1=\"191.28\" x2=\"200.213\" y2=\"212.9\" stroke-linecap=\"round\" style=\"stroke:black;stroke-width:1\" /><line x1=\"200.213\" y1=\"212.9\" x2=\"399.997\" y2=\"299.999\" stroke-linecap=\"round\" style=\"stroke:black;stroke-width:1\" /><line x1=\"399.997\" y1=\"299.999\" x2=\"200.213\" y2=\"212.9\" stroke-linecap=\"round\" style=\"stroke:black;stroke-width:1\" /><line x1=\"200.213\" y1=\"212.9\" x2=\"190.222\" y2=\"235.817\" stroke-linecap=\"round\" style=\"stroke:black;stroke-width:1\" /><line x1=\"190.222\" y1=\"235.817\" x2=\"399.997\" y2=\"299.999\" stroke-linecap=\"round\" style=\"stroke:black;stroke-width:1\" /><line x1=\"399.997\" y1=\"299.999\" x2=\"190.222\" y2=\"235.817\" stroke-linecap=\"round\" style=\"stroke:black;stroke-width:1\" /><line x1=\"190.222\" y1=\"235.817\" x2=\"182.908\" y2=\"259.723\" stroke-linecap=\"round\" style=\"stroke:black;stroke-width:1\" /><line x1=\"182.908\" y1=\"259.723\" x2=\"399.997\" y2=\"300.0\" stroke-linecap=\"round\" style=\"stroke:black;stroke-width:1\" /><line x1=\"399.997\" y1=\"300.0\" x2=\"182.908\" y2=\"259.723\" stroke-linecap=\"round\" style=\"stroke:black;stroke-width:1\" /><line x1=\"182.908\" y1=\"259.723\" x2=\"178.348\" y2=\"284.304\" stroke-linecap=\"round\" style=\"stroke:black;stroke-width:1\" /><line x1=\"178.348\" y1=\"284.304\" x2=\"399.998\" y2=\"300.0\" stroke-linecap=\"round\" style=\"stroke:black;stroke-width:1\" /><line x1=\"399.998\" y1=\"300.0\" x2=\"178.348\" y2=\"284.304\" stroke-linecap=\"round\" style=\"stroke:black;stroke-width:1\" /><line x1=\"178.348\" y1=\"284.304\" x2=\"176.582\" y2=\"309.242\" stroke-linecap=\"round\" style=\"stroke:black;stroke-width:1\" /><line x1=\"176.582\" y1=\"309.242\" x2=\"399.998\" y2=\"300.0\" stroke-linecap=\"round\" style=\"stroke:black;stroke-width:1\" /><line x1=\"399.998\" y1=\"300.0\" x2=\"176.582\" y2=\"309.242\" stroke-linecap=\"round\" style=\"stroke:black;stroke-width:1\" /><line x1=\"176.582\" y1=\"309.242\" x2=\"177.615\" y2=\"334.221\" stroke-linecap=\"round\" style=\"stroke:black;stroke-width:1\" /><line x1=\"177.615\" y1=\"334.221\" x2=\"399.997\" y2=\"300.0\" stroke-linecap=\"round\" style=\"stroke:black;stroke-width:1\" /><line x1=\"399.997\" y1=\"300.0\" x2=\"177.615\" y2=\"334.221\" stroke-linecap=\"round\" style=\"stroke:black;stroke-width:1\" /><line x1=\"177.615\" y1=\"334.221\" x2=\"181.417\" y2=\"358.93\" stroke-linecap=\"round\" style=\"stroke:black;stroke-width:1\" /><line x1=\"181.417\" y1=\"358.93\" x2=\"399.997\" y2=\"300.001\" stroke-linecap=\"round\" style=\"stroke:black;stroke-width:1\" /><line x1=\"399.997\" y1=\"300.001\" x2=\"181.417\" y2=\"358.93\" stroke-linecap=\"round\" style=\"stroke:black;stroke-width:1\" /><line x1=\"181.417\" y1=\"358.93\" x2=\"187.925\" y2=\"383.068\" stroke-linecap=\"round\" style=\"stroke:black;stroke-width:1\" /><line x1=\"187.925\" y1=\"383.068\" x2=\"399.998\" y2=\"300.001\" stroke-linecap=\"round\" style=\"stroke:black;stroke-width:1\" /><line x1=\"399.998\" y1=\"300.001\" x2=\"187.925\" y2=\"383.068\" stroke-linecap=\"round\" style=\"stroke:black;stroke-width:1\" /><line x1=\"187.925\" y1=\"383.068\" x2=\"197.043\" y2=\"406.346\" stroke-linecap=\"round\" style=\"stroke:black;stroke-width:1\" /><line x1=\"197.043\" y1=\"406.346\" x2=\"399.998\" y2=\"300.001\" stroke-linecap=\"round\" style=\"stroke:black;stroke-width:1\" /><line x1=\"399.998\" y1=\"300.001\" x2=\"197.043\" y2=\"406.346\" stroke-linecap=\"round\" style=\"stroke:black;stroke-width:1\" /><line x1=\"197.043\" y1=\"406.346\" x2=\"208.646\" y2=\"428.49\" stroke-linecap=\"round\" style=\"stroke:black;stroke-width:1\" /><line x1=\"208.646\" y1=\"428.49\" x2=\"399.998\" y2=\"300.001\" stroke-linecap=\"round\" style=\"stroke:black;stroke-width:1\" /><line x1=\"399.998\" y1=\"300.001\" x2=\"208.646\" y2=\"428.49\" stroke-linecap=\"round\" style=\"stroke:black;stroke-width:1\" /><line x1=\"208.646\" y1=\"428.49\" x2=\"222.583\" y2=\"449.245\" stroke-linecap=\"round\" style=\"stroke:black;stroke-width:1\" /><line x1=\"222.583\" y1=\"449.245\" x2=\"399.999\" y2=\"300.001\" stroke-linecap=\"round\" style=\"stroke:black;stroke-width:1\" /><line x1=\"399.999\" y1=\"300.001\" x2=\"222.583\" y2=\"449.245\" stroke-linecap=\"round\" style=\"stroke:black;stroke-width:1\" /><line x1=\"222.583\" y1=\"449.245\" x2=\"238.676\" y2=\"468.376\" stroke-linecap=\"round\" style=\"stroke:black;stroke-width:1\" /><line x1=\"238.676\" y1=\"468.376\" x2=\"399.999\" y2=\"300.001\" stroke-linecap=\"round\" style=\"stroke:black;stroke-width:1\" /><line x1=\"399.999\" y1=\"300.001\" x2=\"238.676\" y2=\"468.376\" stroke-linecap=\"round\" style=\"stroke:black;stroke-width:1\" /><line x1=\"238.676\" y1=\"468.376\" x2=\"256.728\" y2=\"485.672\" stroke-linecap=\"round\" style=\"stroke:black;stroke-width:1\" /><line x1=\"256.728\" y1=\"485.672\" x2=\"399.999\" y2=\"300.002\" stroke-linecap=\"round\" style=\"stroke:black;stroke-width:1\" /><line x1=\"399.999\" y1=\"300.002\" x2=\"256.728\" y2=\"485.672\" stroke-linecap=\"round\" style=\"stroke:black;stroke-width:1\" /><line x1=\"256.728\" y1=\"485.672\" x2=\"276.521\" y2=\"500.945\" stroke-linecap=\"round\" style=\"stroke:black;stroke-width:1\" /><line x1=\"276.521\" y1=\"500.945\" x2=\"399.999\" y2=\"300.002\" stroke-linecap=\"round\" style=\"stroke:black;stroke-width:1\" /><line x1=\"399.999\" y1=\"300.002\" x2=\"276.521\" y2=\"500.945\" stroke-linecap=\"round\" style=\"stroke:black;stroke-width:1\" /><line x1=\"276.521\" y1=\"500.945\" x2=\"297.821\" y2=\"514.034\" stroke-linecap=\"round\" style=\"stroke:black;stroke-width:1\" /><line x1=\"297.821\" y1=\"514.034\" x2=\"399.999\" y2=\"300.002\" stroke-linecap=\"round\" style=\"stroke:black;stroke-width:1\" /><line x1=\"399.999\" y1=\"300.002\" x2=\"297.821\" y2=\"514.034\" stroke-linecap=\"round\" style=\"stroke:black;stroke-width:1\" /><line x1=\"297.821\" y1=\"514.034\" x2=\"320.382\" y2=\"524.805\" stroke-linecap=\"round\" style=\"stroke:black;stroke-width:1\" /><line x1=\"320.382\" y1=\"524.805\" x2=\"399.999\" y2=\"300.003\" stroke-linecap=\"round\" style=\"stroke:black;stroke-width:1\" /><line x1=\"399.999\" y1=\"300.003\" x2=\"320.382\" y2=\"524.805\" stroke-linecap=\"round\" style=\"stroke:black;stroke-width:1\" /><line x1=\"320.382\" y1=\"524.805\" x2=\"343.948\" y2=\"533.151\" stroke-linecap=\"round\" style=\"stroke:black;stroke-width:1\" /><line x1=\"343.948\" y1=\"533.151\" x2=\"399.999\" y2=\"300.002\" stroke-linecap=\"round\" style=\"stroke:black;stroke-width:1\" /><line x1=\"399.999\" y1=\"300.002\" x2=\"343.948\" y2=\"533.151\" stroke-linecap=\"round\" style=\"stroke:black;stroke-width:1\" /><line x1=\"343.948\" y1=\"533.151\" x2=\"368.255\" y2=\"538.995\" stroke-linecap=\"round\" style=\"stroke:black;stroke-width:1\" /><line x1=\"368.255\" y1=\"538.995\" x2=\"400.0\" y2=\"300.003\" stroke-linecap=\"round\" style=\"stroke:black;stroke-width:1\" /><line x1=\"400.0\" y1=\"300.003\" x2=\"368.255\" y2=\"538.995\" stroke-linecap=\"round\" style=\"stroke:black;stroke-width:1\" /><line x1=\"368.255\" y1=\"538.995\" x2=\"393.037\" y2=\"542.287\" stroke-linecap=\"round\" style=\"stroke:black;stroke-width:1\" /><line x1=\"393.037\" y1=\"542.287\" x2=\"400.0\" y2=\"300.003\" stroke-linecap=\"round\" style=\"stroke:black;stroke-width:1\" /><line x1=\"400.0\" y1=\"300.003\" x2=\"393.037\" y2=\"542.287\" stroke-linecap=\"round\" style=\"stroke:black;stroke-width:1\" /><line x1=\"393.037\" y1=\"542.287\" x2=\"418.027\" y2=\"543.005\" stroke-linecap=\"round\" style=\"stroke:black;stroke-width:1\" /><line x1=\"418.027\" y1=\"543.005\" x2=\"400.0\" y2=\"300.003\" stroke-linecap=\"round\" style=\"stroke:black;stroke-width:1\" /><line x1=\"400.0\" y1=\"300.003\" x2=\"418.027\" y2=\"543.005\" stroke-linecap=\"round\" style=\"stroke:black;stroke-width:1\" /><line x1=\"418.027\" y1=\"543.005\" x2=\"442.958\" y2=\"541.155\" stroke-linecap=\"round\" style=\"stroke:black;stroke-width:1\" /><line x1=\"442.958\" y1=\"541.155\" x2=\"400.0\" y2=\"300.002\" stroke-linecap=\"round\" style=\"stroke:black;stroke-width:1\" /><line x1=\"400.0\" y1=\"300.002\" x2=\"442.958\" y2=\"541.155\" stroke-linecap=\"round\" style=\"stroke:black;stroke-width:1\" /><line x1=\"442.958\" y1=\"541.155\" x2=\"467.571\" y2=\"536.771\" stroke-linecap=\"round\" style=\"stroke:black;stroke-width:1\" /><line x1=\"467.571\" y1=\"536.771\" x2=\"400.001\" y2=\"300.003\" stroke-linecap=\"round\" style=\"stroke:black;stroke-width:1\" /><line x1=\"400.001\" y1=\"300.003\" x2=\"467.571\" y2=\"536.771\" stroke-linecap=\"round\" style=\"stroke:black;stroke-width:1\" /><line x1=\"467.571\" y1=\"536.771\" x2=\"491.611\" y2=\"529.91\" stroke-linecap=\"round\" style=\"stroke:black;stroke-width:1\" /><line x1=\"491.611\" y1=\"529.91\" x2=\"400.001\" y2=\"300.002\" stroke-linecap=\"round\" style=\"stroke:black;stroke-width:1\" /><line x1=\"400.001\" y1=\"300.002\" x2=\"491.611\" y2=\"529.91\" stroke-linecap=\"round\" style=\"stroke:black;stroke-width:1\" /><line x1=\"491.611\" y1=\"529.91\" x2=\"514.835\" y2=\"520.656\" stroke-linecap=\"round\" style=\"stroke:black;stroke-width:1\" /><line x1=\"514.835\" y1=\"520.656\" x2=\"400.001\" y2=\"300.002\" stroke-linecap=\"round\" style=\"stroke:black;stroke-width:1\" /><line x1=\"400.001\" y1=\"300.002\" x2=\"514.835\" y2=\"520.656\" stroke-linecap=\"round\" style=\"stroke:black;stroke-width:1\" /><line x1=\"514.835\" y1=\"520.656\" x2=\"537.012\" y2=\"509.115\" stroke-linecap=\"round\" style=\"stroke:black;stroke-width:1\" /><line x1=\"537.012\" y1=\"509.115\" x2=\"400.002\" y2=\"300.002\" stroke-linecap=\"round\" style=\"stroke:black;stroke-width:1\" /><line x1=\"400.002\" y1=\"300.002\" x2=\"537.012\" y2=\"509.115\" stroke-linecap=\"round\" style=\"stroke:black;stroke-width:1\" /><line x1=\"537.012\" y1=\"509.115\" x2=\"557.923\" y2=\"495.414\" stroke-linecap=\"round\" style=\"stroke:black;stroke-width:1\" /><line x1=\"557.923\" y1=\"495.414\" x2=\"400.002\" y2=\"300.002\" stroke-linecap=\"round\" style=\"stroke:black;stroke-width:1\" />\n",
              "        \n",
              "        \n",
              "        <g id=\"classic\" visibility=\"visible\" transform=\"rotate(-38.94326430000001,400.002,300.002) translate(400.002, 300.002)\">\n",
              "<polygon points=\"-5,-4.5 0,-2.5 5,-4.5 0,4.5\" transform=\"skewX(0) scale(1,1)\" style=\"stroke:black;fill:black;stroke-width:1\" />\n",
              "</g><g id=\"classic\" visibility=\"visible\" transform=\"rotate(-90,400.0,300.0) translate(400.0, 300.0)\">\n",
              "<polygon points=\"-5,-4.5 0,-2.5 5,-4.5 0,4.5\" transform=\"skewX(0) scale(1,1)\" style=\"stroke:black;fill:black;stroke-width:1\" />\n",
              "</g>\n",
              "      </svg>\n",
              "    "
            ]
          },
          "metadata": {}
        },
        {
          "output_type": "stream",
          "name": "stdout",
          "text": [
            "(0.0, 0.0)\n",
            "0\n",
            "\n",
            "\n",
            "\n",
            "\n",
            "\n",
            "\n",
            "\n",
            "\n",
            "\n",
            "\n",
            "\n",
            "\n",
            "\n",
            "\n",
            "\n",
            "\n",
            "\n",
            "\n",
            "\n",
            "\n",
            "\n",
            "\n",
            "\n",
            "\n",
            "\n",
            "\n",
            "\n",
            "\n",
            "\n",
            "\n",
            "\n",
            "\n",
            "\n",
            "\n",
            "\n",
            "\n",
            "\n",
            "\n",
            "\n",
            "\n",
            "\n",
            "\n",
            "\n",
            "\n",
            "\n",
            "\n",
            "\n",
            "\n",
            "\n",
            "\n",
            "\n",
            "\n",
            "\n",
            "\n",
            "\n",
            "\n",
            "\n",
            "\n",
            "\n",
            "\n",
            "\n",
            "\n",
            "\n",
            "\n",
            "\n",
            "\n",
            "\n",
            "\n",
            "\n",
            "\n",
            "\n",
            "\n",
            "\n",
            "\n",
            "\n",
            "\n",
            "\n",
            "\n",
            "\n",
            "\n",
            "\n",
            "\n",
            "\n",
            "\n",
            "\n",
            "\n",
            "\n",
            "\n",
            "\n",
            "\n",
            "\n",
            "\n",
            "\n",
            "\n",
            "\n",
            "\n",
            "\n",
            "\n",
            "\n",
            "\n"
          ]
        }
      ]
    }
  ]
}