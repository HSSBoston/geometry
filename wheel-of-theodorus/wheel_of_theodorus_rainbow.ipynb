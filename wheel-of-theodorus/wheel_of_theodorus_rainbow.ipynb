{
  "nbformat": 4,
  "nbformat_minor": 0,
  "metadata": {
    "colab": {
      "provenance": [],
      "authorship_tag": "ABX9TyOYzypJcT5zwMS+bITvljMC",
      "include_colab_link": true
    },
    "kernelspec": {
      "name": "python3",
      "display_name": "Python 3"
    },
    "language_info": {
      "name": "python"
    }
  },
  "cells": [
    {
      "cell_type": "markdown",
      "metadata": {
        "id": "view-in-github",
        "colab_type": "text"
      },
      "source": [
        "<a href=\"https://colab.research.google.com/github/HSSBoston/python-geometry/blob/main/wheel-of-theodorus/wheel_of_theodorus_rainbow.ipynb\" target=\"_parent\"><img src=\"https://colab.research.google.com/assets/colab-badge.svg\" alt=\"Open In Colab\"/></a>"
      ]
    },
    {
      "cell_type": "code",
      "execution_count": 2,
      "metadata": {
        "colab": {
          "base_uri": "https://localhost:8080/"
        },
        "id": "biv0k3UBNmjT",
        "outputId": "1b41d36b-0fee-46a1-f0de-ef88b2a4d8c8"
      },
      "outputs": [
        {
          "output_type": "stream",
          "name": "stdout",
          "text": [
            "Looking in indexes: https://pypi.org/simple, https://us-python.pkg.dev/colab-wheels/public/simple/\n",
            "Requirement already satisfied: ColabTurtlePlus in /usr/local/lib/python3.8/dist-packages (2.0.1)\n",
            "Looking in indexes: https://pypi.org/simple, https://us-python.pkg.dev/colab-wheels/public/simple/\n",
            "Requirement already satisfied: colorzero in /usr/local/lib/python3.8/dist-packages (2.0)\n",
            "Requirement already satisfied: setuptools in /usr/local/lib/python3.8/dist-packages (from colorzero) (57.4.0)\n"
          ]
        }
      ],
      "source": [
        "!pip install ColabTurtlePlus\n",
        "!pip install colorzero"
      ]
    },
    {
      "cell_type": "code",
      "source": [
        "from ColabTurtlePlus.Turtle import *\n",
        "from math import *\n",
        "from colorzero import Color, Hue"
      ],
      "metadata": {
        "colab": {
          "base_uri": "https://localhost:8080/"
        },
        "id": "Z6AmFB_pNn5Z",
        "outputId": "a7c9a76a-1c7e-469b-8906-a08247483587"
      },
      "execution_count": 3,
      "outputs": [
        {
          "output_type": "stream",
          "name": "stdout",
          "text": [
            "Put clearscreen() as the first line in a cell (after the import command) to re-run turtle commands in the cell\n"
          ]
        }
      ]
    },
    {
      "cell_type": "code",
      "source": [
        "clearscreen()\n",
        "\n",
        "repeatCount = 17\n",
        "color = Color(\"red\")\n",
        "colors = []\n",
        "\n",
        "for i in range(repeatCount):\n",
        "    degree = i * 360/repeatCount\n",
        "    colors.append( color + Hue(deg=degree) )\n",
        "\n",
        "t = Turtle()\n",
        "t.speed(13)\n",
        "#t.speed(0)\n",
        "print(t.position())\n",
        "print(t.heading())\n",
        "t.pendown()\n",
        "\n",
        "perpendicular = 80\n",
        "base = perpendicular\n",
        "\n",
        "def drawTriangle(base, perpendicular):\n",
        "    t.forward(base)\n",
        "#    print(\"direction\", t.heading(), \"distance\", base)\n",
        "    t.left(90)\n",
        "    t.forward(perpendicular)\n",
        "#    print(\"direction\", t.heading(), \"distance\", perpendicular)\n",
        "#    print(\"heading: \", t.heading(), \"degrees: \", t.towards(0,0))\n",
        "    t.left(t.towards(0,0) - t.heading())\n",
        "    hypotenuse = sqrt(base**2 + perpendicular**2)\n",
        "    t.forward(hypotenuse)\n",
        "#    print(\"direction\", t.heading(), \"distance\", hypotenuse)\n",
        "    print()\n",
        "    return hypotenuse\n",
        "\n",
        "\n",
        "for i in range(repeatCount):\n",
        "    t.begin_fill()\n",
        "    t.color( str(colors[i]) )\n",
        "    base = drawTriangle(base, perpendicular)\n",
        "    t.end_fill()\n",
        "    t.right(180)\n",
        "\n",
        "#done()"
      ],
      "metadata": {
        "colab": {
          "base_uri": "https://localhost:8080/",
          "height": 971
        },
        "id": "9edt4ctZNpS_",
        "outputId": "254c82ef-0257-4176-bc47-627b85813e64"
      },
      "execution_count": 4,
      "outputs": [
        {
          "output_type": "display_data",
          "data": {
            "text/plain": [
              "<IPython.core.display.HTML object>"
            ],
            "text/html": [
              "\n",
              "      <svg width=\"800\" height=\"600\">  \n",
              "        <rect width=\"100%\" height=\"100%\" style=\"fill:white;stroke:;stroke-width:1\"/>\n",
              "        \n",
              "        \n",
              "        <path fill-rule=\"evenodd\" fill-opacity=\"1\" d=\"M 400.0 300.0  L 480.0 300.0  L 480.0 220.0  L 400.0 300.0 \" stroke-linecap=\"round\" style=\"stroke:#ff0000;stroke-width:1\" fill=\"#ff0000\" /><path fill-rule=\"evenodd\" fill-opacity=\"1\" d=\"M 400.0 300.0  L 480.0 220.0  L 423.431 163.431  L 400.0 300.0 \" stroke-linecap=\"round\" style=\"stroke:#ff5a00;stroke-width:1\" fill=\"#ff5a00\" /><path fill-rule=\"evenodd\" fill-opacity=\"1\" d=\"M 400.0 300.0  L 423.431 163.431  L 344.583 149.903  L 400.0 300.0 \" stroke-linecap=\"round\" style=\"stroke:#ffb400;stroke-width:1\" fill=\"#ffb400\" /><path fill-rule=\"evenodd\" fill-opacity=\"1\" d=\"M 400.0 300.0  L 344.583 149.903  L 269.535 177.611  L 400.0 300.0 \" stroke-linecap=\"round\" style=\"stroke:#f0ff00;stroke-width:1\" fill=\"#f0ff00\" /><path fill-rule=\"evenodd\" fill-opacity=\"1\" d=\"M 400.0 300.0  L 269.535 177.611  L 214.801 235.957  L 400.0 300.0 \" stroke-linecap=\"round\" style=\"stroke:#96ff00;stroke-width:1\" fill=\"#96ff00\" /><path fill-rule=\"evenodd\" fill-opacity=\"1\" d=\"M 400.0 300.0  L 214.801 235.957  L 188.656 311.564  L 400.0 300.0 \" stroke-linecap=\"round\" style=\"stroke:#3cff00;stroke-width:1\" fill=\"#3cff00\" /><path fill-rule=\"evenodd\" fill-opacity=\"1\" d=\"M 400.0 300.0  L 188.656 311.564  L 193.027 391.445  L 400.0 300.0 \" stroke-linecap=\"round\" style=\"stroke:#00ff1e;stroke-width:1\" fill=\"#00ff1e\" /><path fill-rule=\"evenodd\" fill-opacity=\"1\" d=\"M 400.0 300.0  L 193.027 391.445  L 225.358 464.621  L 400.0 300.0 \" stroke-linecap=\"round\" style=\"stroke:#00ff78;stroke-width:1\" fill=\"#00ff78\" /><path fill-rule=\"evenodd\" fill-opacity=\"1\" d=\"M 400.0 300.0  L 225.358 464.621  L 280.232 522.835  L 400.0 300.0 \" stroke-linecap=\"round\" style=\"stroke:#00ffd2;stroke-width:1\" fill=\"#00ffd2\" /><path fill-rule=\"evenodd\" fill-opacity=\"1\" d=\"M 400.0 300.0  L 280.232 522.835  L 350.699 560.709  L 400.0 300.0 \" stroke-linecap=\"round\" style=\"stroke:#00d2ff;stroke-width:1\" fill=\"#00d2ff\" /><path fill-rule=\"evenodd\" fill-opacity=\"1\" d=\"M 400.0 300.0  L 350.699 560.709  L 429.306 575.574  L 400.0 300.0 \" stroke-linecap=\"round\" style=\"stroke:#0078ff;stroke-width:1\" fill=\"#0078ff\" /><path fill-rule=\"evenodd\" fill-opacity=\"1\" d=\"M 400.0 300.0  L 429.306 575.574  L 508.857 567.114  L 400.0 300.0 \" stroke-linecap=\"round\" style=\"stroke:#001eff;stroke-width:1\" fill=\"#001eff\" /><path fill-rule=\"evenodd\" fill-opacity=\"1\" d=\"M 400.0 300.0  L 508.857 567.114  L 582.941 536.922  L 399.999 299.999 \" stroke-linecap=\"round\" style=\"stroke:#3c00ff;stroke-width:1\" fill=\"#3c00ff\" /><path fill-rule=\"evenodd\" fill-opacity=\"1\" d=\"M 399.999 299.999  L 582.941 536.922  L 646.261 488.029  L 399.999 299.999 \" stroke-linecap=\"round\" style=\"stroke:#9600ff;stroke-width:1\" fill=\"#9600ff\" /><path fill-rule=\"evenodd\" fill-opacity=\"1\" d=\"M 399.999 299.999  L 646.261 488.029  L 694.81 424.444  L 399.999 300.0 \" stroke-linecap=\"round\" style=\"stroke:#f000ff;stroke-width:1\" fill=\"#f000ff\" /><path fill-rule=\"evenodd\" fill-opacity=\"1\" d=\"M 399.999 300.0  L 694.81 424.444  L 725.921 350.741  L 399.999 300.0 \" stroke-linecap=\"round\" style=\"stroke:#ff00b4;stroke-width:1\" fill=\"#ff00b4\" /><path fill-rule=\"evenodd\" fill-opacity=\"1\" d=\"M 399.999 300.0  L 725.921 350.741  L 738.228 271.693  L 399.999 300.0 \" stroke-linecap=\"round\" style=\"stroke:#ff005a;stroke-width:1\" fill=\"#ff005a\" />\n",
              "        \n",
              "        \n",
              "        <g id=\"classic\" visibility=\"visible\" transform=\"rotate(85.21594680000001,399.999,300.0) translate(399.999, 300.0)\">\n",
              "<polygon points=\"-5,-4.5 0,-2.5 5,-4.5 0,4.5\" transform=\"skewX(0) scale(1,1)\" style=\"stroke:#ff005a;fill:#ff005a;stroke-width:1\" />\n",
              "<animateTransform id = \"one\" attributeName=\"transform\" \n",
              "                      type=\"scale\"\n",
              "                      from=\"1 1\" to=\"1 1\"\n",
              "                      begin=\"0s\" dur=\"0.01s\"\n",
              "                      repeatCount=\"1\"\n",
              "                      additive=\"sum\"\n",
              "                      fill=\"freeze\"\n",
              "                /><animateTransform attributeName=\"transform\"\n",
              "                    type=\"rotate\"\n",
              "                    from=\"0 0 0\" to =\"180 0 0\"\n",
              "                    begin=\"one.end\" dur=\"0.01s\"\n",
              "                    repeatCount=\"1\"\n",
              "                    additive=\"sum\"\n",
              "                    fill=\"freeze\"\n",
              "                /></g>\n",
              "      </svg>\n",
              "    "
            ]
          },
          "metadata": {}
        },
        {
          "output_type": "stream",
          "name": "stdout",
          "text": [
            "(0.0, 0.0)\n",
            "0\n",
            "\n",
            "\n",
            "\n",
            "\n",
            "\n",
            "\n",
            "\n",
            "\n",
            "\n",
            "\n",
            "\n",
            "\n",
            "\n",
            "\n",
            "\n",
            "\n",
            "\n"
          ]
        }
      ]
    }
  ]
}